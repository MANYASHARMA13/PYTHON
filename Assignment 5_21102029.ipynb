{
 "cells": [
  {
   "cell_type": "code",
   "execution_count": 1,
   "id": "662aba44",
   "metadata": {},
   "outputs": [
    {
     "name": "stdout",
     "output_type": "stream",
     "text": [
      "Enter a string: Manya\n",
      "aynaM\n"
     ]
    }
   ],
   "source": [
    "#Q1\n",
    "word = input (\"Enter a string: \")\n",
    "new_word = \"\"\n",
    "for i in word:\n",
    "    new_word = i + new_word\n",
    "print(new_word)"
   ]
  },
  {
   "cell_type": "code",
   "execution_count": 2,
   "id": "0c7dbb0d",
   "metadata": {},
   "outputs": [
    {
     "name": "stdout",
     "output_type": "stream",
     "text": [
      "Enter a number: 12\n",
      "Enter the start value of range: 23\n",
      "Enter the end value of range: 240\n",
      "24\n",
      "36\n",
      "48\n",
      "60\n",
      "72\n",
      "84\n",
      "96\n",
      "108\n",
      "120\n",
      "132\n",
      "144\n",
      "156\n",
      "168\n",
      "180\n",
      "192\n",
      "204\n",
      "216\n",
      "228\n",
      "240\n"
     ]
    }
   ],
   "source": [
    "#Q2\n",
    "n = int (input(\"Enter a number: \"))\n",
    "a = int (input(\"Enter the start value of range: \"))\n",
    "b = int (input(\"Enter the end value of range: \"))\n",
    "\n",
    "for i in range (a,b+1): # +1 for including the end value\n",
    "  if i%n ==0:\n",
    "    print (i)"
   ]
  },
  {
   "cell_type": "code",
   "execution_count": 3,
   "id": "e17d9789",
   "metadata": {},
   "outputs": [
    {
     "name": "stdout",
     "output_type": "stream",
     "text": [
      "Enter the length of first side: 12\n",
      "Enter the length of first side: 34\n",
      "Enter the length of first side: 21\n",
      "Triangle cannot be formed\n"
     ]
    }
   ],
   "source": [
    "#Q3\n",
    "\n",
    "a = int (input (\"Enter the length of first side: \"))\n",
    "b = int (input (\"Enter the length of first side: \"))\n",
    "c = int (input (\"Enter the length of first side: \"))\n",
    "\n",
    "d = a+b > c\n",
    "e = b+c > a\n",
    "f = c+a > b\n",
    "\n",
    "s = (a+b+c)/2\n",
    "Area = (s*(s-a)*(s-b)*(s-c))**0.5\n",
    "\n",
    "if d&e&f :\n",
    "  print (\"Triangle is formed\")\n",
    "  print (\"Area of triangle= \",Area, \"sq. units\")\n",
    "else :\n",
    "  print (\"Triangle cannot be formed\")"
   ]
  },
  {
   "cell_type": "code",
   "execution_count": 4,
   "id": "7cda0556",
   "metadata": {},
   "outputs": [
    {
     "name": "stdout",
     "output_type": "stream",
     "text": [
      "*\n",
      "**\n",
      "***\n",
      "****\n",
      "*****\n",
      "****\n",
      "***\n",
      "**\n",
      "*\n",
      "\n"
     ]
    }
   ],
   "source": [
    "#Q4\n",
    "for i in range (1,6):\n",
    "  for j in range (0,i):\n",
    "    print (\"*\", end='')\n",
    "  print()\n",
    "for i in range (0,5):\n",
    "  j=4-i\n",
    "  while j>0:\n",
    "    print (\"*\", end='')\n",
    "    j=j-1\n",
    "  print()"
   ]
  },
  {
   "cell_type": "code",
   "execution_count": 5,
   "id": "03d72dbc",
   "metadata": {},
   "outputs": [
    {
     "name": "stdout",
     "output_type": "stream",
     "text": [
      "Enter the number of rows: 7\n",
      "A\n",
      "BC\n",
      "DEF\n",
      "GHIJ\n",
      "KLMNO\n",
      "PQRSTU\n",
      "VWXYZAB\n"
     ]
    }
   ],
   "source": [
    "#Q5\n",
    "a1 = \"ABCDEFGHIJKLMNOPQRSTUVWXYZ\"\n",
    "a = a1\n",
    "n = int(input(\"Enter the number of rows: \"))\n",
    "for i in range (1,n+1):\n",
    "  if len(a)<i:\n",
    "    a=a+a1\n",
    "  for j in range (0,i):\n",
    "    print (a[j], end='')\n",
    "  print()\n",
    "  a = a[i:]"
   ]
  },
  {
   "cell_type": "code",
   "execution_count": 6,
   "id": "dd4c9c0c",
   "metadata": {},
   "outputs": [
    {
     "name": "stdout",
     "output_type": "stream",
     "text": [
      "Enter the lower value of range: 12\n",
      "Enter the upper value of range: 34\n",
      "13\n",
      "17\n",
      "19\n",
      "23\n",
      "29\n",
      "31\n"
     ]
    }
   ],
   "source": [
    "#Q6\n",
    "lower_value = int(input(\"Enter the lower value of range: \"))\n",
    "upper_value = int(input(\"Enter the upper value of range: \"))\n",
    "\n",
    "for number in range(lower_value,upper_value+1):   # +1 for including the upper range as well\n",
    "  if number>1:\n",
    "    for i in range (2,number):\n",
    "      if number%i ==0:\n",
    "        break\n",
    "    else:\n",
    "      print(number)"
   ]
  },
  {
   "cell_type": "code",
   "execution_count": 7,
   "id": "cb15e07f",
   "metadata": {},
   "outputs": [
    {
     "name": "stdout",
     "output_type": "stream",
     "text": [
      "77\n",
      "154\n",
      "231\n",
      "308\n",
      "385\n",
      "462\n"
     ]
    }
   ],
   "source": [
    "#Q7\n",
    "for i in range (1,500):\n",
    "  if (i % 7 ==0 and i%11==0):\n",
    "    print (i)"
   ]
  },
  {
   "cell_type": "code",
   "execution_count": 9,
   "id": "f53b1083",
   "metadata": {},
   "outputs": [
    {
     "name": "stdout",
     "output_type": "stream",
     "text": [
      "Enter 10 integers: 2,9,-3,4,-33,-22,-1,11,5,6\n",
      "['2', '9', '-3', '4', '-33', '-22', '-1', '11', '5', '6']\n",
      "Positive numbers are:\n",
      "2\n",
      "9\n",
      "4\n",
      "11\n",
      "5\n",
      "6\n",
      "Negative numbers are:\n",
      "-3\n",
      "-33\n",
      "-22\n",
      "-1\n",
      "Odd numbers are:\n",
      "9\n",
      "-3\n",
      "-33\n",
      "-1\n",
      "11\n",
      "5\n",
      "Even numbers are:\n",
      "2\n",
      "4\n",
      "-22\n",
      "6\n",
      "Number of times 2 occured : 1\n",
      "Number of times 9 occured : 1\n",
      "Number of times -3 occured : 1\n",
      "Number of times 4 occured : 1\n",
      "Number of times -33 occured : 1\n",
      "Number of times -22 occured : 1\n",
      "Number of times -1 occured : 1\n",
      "Number of times 11 occured : 1\n",
      "Number of times 5 occured : 1\n",
      "Number of times 6 occured : 1\n"
     ]
    }
   ],
   "source": [
    "#Q8\n",
    "n = input(\"Enter 10 integers: \")\n",
    "int_list = n.split(',')\n",
    "print (int_list)\n",
    "\n",
    "#part(a)\n",
    "print (\"Positive numbers are:\")\n",
    "for i in int_list:\n",
    "  j = int(i)\n",
    "  if j > 0:\n",
    "    print (j)\n",
    "    j = j+1\n",
    "\n",
    "#part(b)\n",
    "print (\"Negative numbers are:\")\n",
    "for i in int_list:\n",
    "  j = int(i)\n",
    "  if j < 0:\n",
    "    print (j)\n",
    "    j = j+1\n",
    "\n",
    "#part(c)\n",
    "print (\"Odd numbers are:\")\n",
    "for i in int_list:\n",
    "  j = int(i)\n",
    "  if j %2 != 0:\n",
    "    print (j)\n",
    "    j = j+1\n",
    "#part(d)\n",
    "print (\"Even numbers are:\")\n",
    "for i in int_list:\n",
    "  j = int(i)\n",
    "  if j %2== 0:\n",
    "    print (j)\n",
    "    j = j+1\n",
    "\n",
    "#part(e)\n",
    "for i in int_list:\n",
    "  g=0\n",
    "  n=0\n",
    "  if (i=='----'):\n",
    "    continue\n",
    "\n",
    "  for j in int_list:\n",
    "    if i==j :\n",
    "      n = n+1\n",
    "      int_list[g]='----'\n",
    "    g = g+1\n",
    "  print(\"Number of times\" , i, \"occured :\",n)"
   ]
  },
  {
   "cell_type": "code",
   "execution_count": 11,
   "id": "404c4cfd",
   "metadata": {},
   "outputs": [
    {
     "name": "stdout",
     "output_type": "stream",
     "text": [
      "Enter a list of words: hey you yes me i me hi hey you yes i hi hey me\n",
      "['hey', 'you', 'yes', 'me', 'i', 'me', 'hi', 'hey', 'you', 'yes', 'i', 'hi', 'hey', 'me']\n",
      "Number of times hey occured : 3\n",
      "Number of times you occured : 2\n",
      "Number of times yes occured : 2\n",
      "Number of times me occured : 3\n",
      "Number of times i occured : 2\n",
      "Number of times hi occured : 2\n"
     ]
    }
   ],
   "source": [
    "words = input(\"Enter a list of words: \")\n",
    "list = words.split()\n",
    "print (list)\n",
    "\n",
    "for i in list:\n",
    "  g=0\n",
    "  n=0\n",
    "  if (i=='----'):\n",
    "    continue\n",
    "\n",
    "  for j in list:\n",
    "    if i==j :\n",
    "      n = n+1\n",
    "      list[g]='----'\n",
    "    g = g+1\n",
    "  print(\"Number of times\" , i, \"occured :\",n)"
   ]
  },
  {
   "cell_type": "code",
   "execution_count": null,
   "id": "f1285d25",
   "metadata": {},
   "outputs": [],
   "source": []
  }
 ],
 "metadata": {
  "kernelspec": {
   "display_name": "Python 3 (ipykernel)",
   "language": "python",
   "name": "python3"
  },
  "language_info": {
   "codemirror_mode": {
    "name": "ipython",
    "version": 3
   },
   "file_extension": ".py",
   "mimetype": "text/x-python",
   "name": "python",
   "nbconvert_exporter": "python",
   "pygments_lexer": "ipython3",
   "version": "3.9.12"
  }
 },
 "nbformat": 4,
 "nbformat_minor": 5
}
