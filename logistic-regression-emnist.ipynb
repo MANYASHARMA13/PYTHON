# Imports
import torch
import jovian
import torchvision
import torch.nn as nn
import matplotlib.pyplot as plt
import torch.nn.functional as F
import torchvision.transforms as transforms
from torchvision.datasets import EMNIST
from torch.utils.data import random_split
from torch.utils.data import DataLoader
# Download dataset
dataset = EMNIST(root='data/', train=True, transform=transforms.ToTensor(), download=True, split='letters')
# Other constants
input_size = 28*28
num_classes = len(dataset.classes)
len(dataset.classes)
len(dataset)
img_tensor, label = dataset[0]
print(img_tensor, label)
print(img_tensor.shape, label)
batch_size = 128
# Training validation & test dataset
val_len = len(dataset)//10
train_ds, val_ds = random_split(dataset, [len(dataset) - val_len, val_len])
test_ds = EMNIST(root='data/', train=False, transform=transforms.ToTensor(), split='letters')

# Dataloaders
train_loader = DataLoader(train_ds, batch_size, shuffle=True)
val_loader = DataLoader(val_ds, batch_size)
test_loader = DataLoader(test_ds, batch_size*2)
val_len
class MnistModel(nn.Module):
    def __init__(self):
        super().__init__()
        self.linear = nn.Linear(input_size, num_classes)
        
    def forward(self, xb):
        xb = xb.reshape(-1, input_size)
        out = self.linear(xb)
        return out
    
    def training_step(self, batch):
        images, label = batch 
        labels = torch.tensor([x-1 for x in label])
        out = self(images)                  # Generate predictions
        loss = F.cross_entropy(out, labels) # Calculate loss
        return loss
    
    def validation_step(self, batch):
        images, label = batch 
        labels = torch.tensor([x-1 for x in label])
        out = self(images)                    # Generate predictions
        loss = F.cross_entropy(out, labels)   # Calculate loss
        acc = accuracy(out, labels)           # Calculate accuracy
        return {'val_loss': loss.detach(), 'val_acc': acc.detach()}
        
    def validation_epoch_end(self, outputs):
        batch_losses = [x['val_loss'] for x in outputs]
        epoch_loss = torch.stack(batch_losses).mean()   # Combine losses
        batch_accs = [x['val_acc'] for x in outputs]
        epoch_acc = torch.stack(batch_accs).mean()      # Combine accuracies
        return {'val_loss': epoch_loss.item(), 'val_acc': epoch_acc.item()}
    
    def epoch_end(self, epoch, result):
        print("Epoch [{}], val_loss: {:.4f}, val_acc: {:.4f}".format(epoch, result['val_loss'], result['val_acc']))
model = MnistModel()
def accuracy(outputs, labels):
    _, preds = torch.max(outputs, dim=1)
    return torch.tensor(torch.sum(preds == labels).item() / len(preds))
def evaluate(model, val_loader):
    outputs = [model.validation_step(batch) for batch in val_loader]
    return model.validation_epoch_end(outputs)

def fit(epochs, lr, model, train_loader, val_loader, opt_func=torch.optim.SGD):
    history = []
    optimizer = opt_func(model.parameters(), lr)
    for epoch in range(epochs):
        # Training Phase 
        for batch in train_loader:
            loss = model.training_step(batch)
            loss.backward()
            optimizer.step()
            optimizer.zero_grad()
        # Validation phase
        result = evaluate(model, val_loader)
        model.epoch_end(epoch, result)
        history.append(result)
    return history
evaluate(model, val_loader)
history = fit(10, 0.1, model, train_loader, val_loader)
history += fit(5, 0.05, model, train_loader, val_loader)
history += fit(5, 0.01, model, train_loader, val_loader)
accuracies = [r['val_acc'] for r in history]
plt.plot(accuracies, '-x')
plt.xlabel('epoch')
plt.ylabel('accuracy')
plt.title('Accuracy vs. No. of epochs');
# Evaluate on test dataset
result = evaluate(model, test_loader)
result
def predict_image(img, model):
    xb = img.unsqueeze(0)
    yb = model(xb)
    _, preds  = torch.max(yb, dim=1)
    return preds[0].item()
img, label = test_ds[0]
plt.imshow(img[0], cmap='gray')
print('Label:', label , ', Predicted:', predict_image(img, model) + 1, 'Predicted Alphabet:', dataset.classes[predict_image(img, model)])
img, label = test_ds[35]
plt.imshow(img[0], cmap='gray')
print('Label:', label , ', Predicted:', predict_image(img, model) + 1, 'Predicted Alphabet:', dataset.classes[predict_image(img, model)])
img, label = test_ds[300]
plt.imshow(img[0], cmap='gray')
print('Label:', label , ', Predicted:', predict_image(img, model) + 1, 'Predicted Alphabet:', dataset.classes[predict_image(img, model)])
